{
 "cells": [
  {
   "cell_type": "markdown",
   "id": "0c46911e",
   "metadata": {},
   "source": [
    "# 01 Importing Libraries"
   ]
  },
  {
   "cell_type": "code",
   "execution_count": 1,
   "id": "366c26de",
   "metadata": {},
   "outputs": [],
   "source": [
    "# Import libraries\n",
    "import pandas as pd\n",
    "import numpy as np\n",
    "import os"
   ]
  },
  {
   "cell_type": "code",
   "execution_count": 8,
   "id": "c7d601e1",
   "metadata": {},
   "outputs": [],
   "source": [
    "# working with python data types\n",
    "x = 52\n",
    "y = 48"
   ]
  },
  {
   "cell_type": "code",
   "execution_count": 9,
   "id": "a5c917c4",
   "metadata": {},
   "outputs": [
    {
     "data": {
      "text/plain": [
       "100"
      ]
     },
     "execution_count": 9,
     "metadata": {},
     "output_type": "execute_result"
    }
   ],
   "source": [
    "x + y"
   ]
  },
  {
   "cell_type": "code",
   "execution_count": 10,
   "id": "a70d9f3f",
   "metadata": {},
   "outputs": [],
   "source": [
    "x = 99\n",
    "y = 1"
   ]
  },
  {
   "cell_type": "code",
   "execution_count": 11,
   "id": "7de6fdb7",
   "metadata": {},
   "outputs": [
    {
     "data": {
      "text/plain": [
       "100"
      ]
     },
     "execution_count": 11,
     "metadata": {},
     "output_type": "execute_result"
    }
   ],
   "source": [
    "x + y "
   ]
  },
  {
   "cell_type": "code",
   "execution_count": 12,
   "id": "d7ead92f",
   "metadata": {},
   "outputs": [],
   "source": [
    "x = 122\n",
    "y = 22"
   ]
  },
  {
   "cell_type": "code",
   "execution_count": 13,
   "id": "02e7970d",
   "metadata": {},
   "outputs": [
    {
     "data": {
      "text/plain": [
       "100"
      ]
     },
     "execution_count": 13,
     "metadata": {},
     "output_type": "execute_result"
    }
   ],
   "source": [
    "x - y"
   ]
  },
  {
   "cell_type": "code",
   "execution_count": 14,
   "id": "95f5bcae",
   "metadata": {},
   "outputs": [],
   "source": [
    "x = 3.14159\n",
    "y = 1.24556"
   ]
  },
  {
   "cell_type": "code",
   "execution_count": 15,
   "id": "028f9e9c",
   "metadata": {},
   "outputs": [
    {
     "data": {
      "text/plain": [
       "2.522230964385497"
      ]
     },
     "execution_count": 15,
     "metadata": {},
     "output_type": "execute_result"
    }
   ],
   "source": [
    "x/y"
   ]
  },
  {
   "cell_type": "code",
   "execution_count": 17,
   "id": "145e6ec0",
   "metadata": {},
   "outputs": [],
   "source": [
    "a = 'how'\n",
    "b = 'dy'"
   ]
  },
  {
   "cell_type": "code",
   "execution_count": 18,
   "id": "01868aa9",
   "metadata": {},
   "outputs": [
    {
     "data": {
      "text/plain": [
       "'howdy'"
      ]
     },
     "execution_count": 18,
     "metadata": {},
     "output_type": "execute_result"
    }
   ],
   "source": [
    "a + b"
   ]
  },
  {
   "cell_type": "code",
   "execution_count": 24,
   "id": "b190d329",
   "metadata": {},
   "outputs": [],
   "source": [
    "me = 'we finish eachothers '\n",
    "you = 'sentences.'"
   ]
  },
  {
   "cell_type": "code",
   "execution_count": 25,
   "id": "e41643c5",
   "metadata": {},
   "outputs": [
    {
     "data": {
      "text/plain": [
       "'we finish eachothers sentences.'"
      ]
     },
     "execution_count": 25,
     "metadata": {},
     "output_type": "execute_result"
    }
   ],
   "source": [
    "me + you"
   ]
  },
  {
   "cell_type": "code",
   "execution_count": 26,
   "id": "637b668e",
   "metadata": {},
   "outputs": [],
   "source": [
    "x = 'well, look at what'\n",
    "y =  ' we have here'"
   ]
  },
  {
   "cell_type": "code",
   "execution_count": 27,
   "id": "889e1daa",
   "metadata": {},
   "outputs": [
    {
     "data": {
      "text/plain": [
       "'well, look at what we have here'"
      ]
     },
     "execution_count": 27,
     "metadata": {},
     "output_type": "execute_result"
    }
   ],
   "source": [
    "x + y"
   ]
  },
  {
   "cell_type": "code",
   "execution_count": null,
   "id": "bce96caa",
   "metadata": {},
   "outputs": [],
   "source": []
  }
 ],
 "metadata": {
  "kernelspec": {
   "display_name": "Python 3 (ipykernel)",
   "language": "python",
   "name": "python3"
  },
  "language_info": {
   "codemirror_mode": {
    "name": "ipython",
    "version": 3
   },
   "file_extension": ".py",
   "mimetype": "text/x-python",
   "name": "python",
   "nbconvert_exporter": "python",
   "pygments_lexer": "ipython3",
   "version": "3.10.9"
  }
 },
 "nbformat": 4,
 "nbformat_minor": 5
}
