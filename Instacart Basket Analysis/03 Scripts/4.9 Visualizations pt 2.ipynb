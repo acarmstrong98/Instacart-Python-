{
 "cells": [
  {
   "cell_type": "code",
   "execution_count": 21,
   "id": "f9c1c4cd",
   "metadata": {},
   "outputs": [],
   "source": [
    "# Import libraries"
   ]
  },
  {
   "cell_type": "code",
   "execution_count": 22,
   "id": "5e7e4c37",
   "metadata": {},
   "outputs": [],
   "source": [
    "import pandas as pd\n",
    "import numpy as np\n",
    "import os\n",
    "import matplotlib.pyplot as plt\n",
    "import seaborn as sns\n",
    "import scipy"
   ]
  },
  {
   "cell_type": "code",
   "execution_count": 23,
   "id": "8c156fae",
   "metadata": {},
   "outputs": [],
   "source": [
    "# Create path"
   ]
  },
  {
   "cell_type": "code",
   "execution_count": 24,
   "id": "9254566f",
   "metadata": {},
   "outputs": [],
   "source": [
    "path = r'C:\\Users\\Andrew\\Desktop\\Data Immersion 1\\Instacart Basket Analysis'"
   ]
  },
  {
   "cell_type": "code",
   "execution_count": 25,
   "id": "961c405b",
   "metadata": {},
   "outputs": [],
   "source": [
    "# Import data"
   ]
  },
  {
   "cell_type": "code",
   "execution_count": null,
   "id": "c5cbdbd5",
   "metadata": {},
   "outputs": [],
   "source": [
    "complete_data = pd.read_pickle(os.path.join(path, '02 Data', 'Prepared data', 'complete_data.pkl'))"
   ]
  },
  {
   "cell_type": "code",
   "execution_count": null,
   "id": "144afa1f",
   "metadata": {},
   "outputs": [],
   "source": [
    "# Adjust columns displayed"
   ]
  },
  {
   "cell_type": "code",
   "execution_count": null,
   "id": "ecccbcb2",
   "metadata": {},
   "outputs": [],
   "source": [
    "pd.set_option('display.max_columns', None)"
   ]
  },
  {
   "cell_type": "code",
   "execution_count": null,
   "id": "80edba29",
   "metadata": {},
   "outputs": [],
   "source": [
    "# Create a histogram of the “order_hour_of_day” column"
   ]
  },
  {
   "cell_type": "code",
   "execution_count": null,
   "id": "eb41019d",
   "metadata": {},
   "outputs": [],
   "source": [
    "hours = complete_data['order_hour_of_day'].plot.hist(bins = 24)"
   ]
  },
  {
   "cell_type": "code",
   "execution_count": null,
   "id": "f4a2a190",
   "metadata": {},
   "outputs": [],
   "source": [
    "# This displays, that we start to see a big incline in sales starting around 8am and peaking at 10am"
   ]
  },
  {
   "cell_type": "code",
   "execution_count": null,
   "id": "855a7e86",
   "metadata": {},
   "outputs": [],
   "source": [
    "# The orders then start to decline around the 4pm mark. This would suggest that midday is where sales are highest"
   ]
  },
  {
   "cell_type": "code",
   "execution_count": null,
   "id": "c2cddc85",
   "metadata": {},
   "outputs": [],
   "source": [
    "hours.figure.savefig(os.path.join(path, '04 Analysis','Visualizations', 'bar_orders_hour.png'))"
   ]
  },
  {
   "cell_type": "code",
   "execution_count": null,
   "id": "ed5bbc9f",
   "metadata": {},
   "outputs": [],
   "source": [
    "# Create a bar chart containing the data from the loyalty flag column"
   ]
  },
  {
   "cell_type": "code",
   "execution_count": null,
   "id": "dcd994c0",
   "metadata": {},
   "outputs": [],
   "source": [
    "bar = complete_data['loyalty_flag'].value_counts().plot.bar()"
   ]
  },
  {
   "cell_type": "code",
   "execution_count": null,
   "id": "7eefb3a0",
   "metadata": {},
   "outputs": [],
   "source": [
    "# Create a  randomsample for line chart"
   ]
  },
  {
   "cell_type": "code",
   "execution_count": null,
   "id": "26950e18",
   "metadata": {},
   "outputs": [],
   "source": [
    "np.random.seed(4)\n",
    "dev = np.random.rand(len(complete_data)) <= 0.7"
   ]
  },
  {
   "cell_type": "code",
   "execution_count": null,
   "id": "27889c29",
   "metadata": {},
   "outputs": [],
   "source": [
    "big = complete_data[dev]"
   ]
  },
  {
   "cell_type": "code",
   "execution_count": null,
   "id": "10926f62",
   "metadata": {},
   "outputs": [],
   "source": [
    "small = complete_data[~dev]"
   ]
  },
  {
   "cell_type": "code",
   "execution_count": null,
   "id": "5e608e58",
   "metadata": {},
   "outputs": [],
   "source": [
    "small_2 = small[['order_hour_of_day','prices']]"
   ]
  },
  {
   "cell_type": "code",
   "execution_count": null,
   "id": "134edaaf",
   "metadata": {},
   "outputs": [],
   "source": [
    "line = sns.lineplot(data = small, x = 'order_hour_of_day',y = 'prices')"
   ]
  },
  {
   "cell_type": "code",
   "execution_count": null,
   "id": "5e1721eb",
   "metadata": {},
   "outputs": [],
   "source": [
    "# Filter down to the only columns we need for the next line chart"
   ]
  },
  {
   "cell_type": "code",
   "execution_count": null,
   "id": "cbf66889",
   "metadata": {},
   "outputs": [],
   "source": [
    "df_2 = small[['Age','Dependants']]"
   ]
  },
  {
   "cell_type": "code",
   "execution_count": null,
   "id": "301106ce",
   "metadata": {},
   "outputs": [],
   "source": [
    "line_2 = sns.lineplot(data = df_2, x = 'Age',y = 'Dependants')"
   ]
  },
  {
   "cell_type": "code",
   "execution_count": null,
   "id": "0aed231e",
   "metadata": {},
   "outputs": [],
   "source": [
    "# Create a scatterplot to explor the between age and spending power"
   ]
  },
  {
   "cell_type": "code",
   "execution_count": null,
   "id": "1f8f393f",
   "metadata": {},
   "outputs": [],
   "source": [
    "scatter = sns.scatterplot(x = 'Age', y = 'income',data = complete_data)"
   ]
  },
  {
   "cell_type": "code",
   "execution_count": null,
   "id": "c2fd9b23",
   "metadata": {},
   "outputs": [],
   "source": [
    "# The scatterplot shows that there is definitely a spike in spending power around the 42 year mark\n",
    "# We can also see a lot more disparity from that age onward"
   ]
  },
  {
   "cell_type": "code",
   "execution_count": null,
   "id": "936fdd4c",
   "metadata": {},
   "outputs": [],
   "source": [
    "bar.figure.savefig(os.path.join(path, '04 Analysis','Visualizations', 'bar_loyalty_flag.png'))"
   ]
  },
  {
   "cell_type": "code",
   "execution_count": null,
   "id": "e287d750",
   "metadata": {},
   "outputs": [],
   "source": [
    "line.figure.savefig(os.path.join(path, '04 Analysis','Visualizations', 'bar_hour_prices.png'))"
   ]
  },
  {
   "cell_type": "code",
   "execution_count": null,
   "id": "b9b1591e",
   "metadata": {},
   "outputs": [],
   "source": [
    "line_2.figure.savefig(os.path.join(path, '04 Analysis','Visualizations', 'line_age_dependants.png'))"
   ]
  },
  {
   "cell_type": "code",
   "execution_count": null,
   "id": "562ff05e",
   "metadata": {},
   "outputs": [],
   "source": [
    "scatter.figure.savefig(os.path.join(path, '04 Analysis','Visualizations', 'scatter_age_income.png'))"
   ]
  },
  {
   "cell_type": "code",
   "execution_count": null,
   "id": "d0d7bdb7",
   "metadata": {},
   "outputs": [],
   "source": []
  }
 ],
 "metadata": {
  "kernelspec": {
   "display_name": "Python 3 (ipykernel)",
   "language": "python",
   "name": "python3"
  },
  "language_info": {
   "codemirror_mode": {
    "name": "ipython",
    "version": 3
   },
   "file_extension": ".py",
   "mimetype": "text/x-python",
   "name": "python",
   "nbconvert_exporter": "python",
   "pygments_lexer": "ipython3",
   "version": "3.10.9"
  }
 },
 "nbformat": 4,
 "nbformat_minor": 5
}
