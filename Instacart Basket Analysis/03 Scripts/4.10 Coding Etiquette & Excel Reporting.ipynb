{
 "cells": [
  {
   "cell_type": "markdown",
   "id": "18fec67d",
   "metadata": {},
   "source": [
    "## Contents:\n",
    "1. Import data\n",
    "2. Address PPI data\n",
    "3. Assign regions based on user state\n",
    "4. Compare spending habits base on region\n",
    "5. Create a new dataframe consisting of only 'High activity users'\n",
    "6. Create flag based off of age\n",
    "7. Create flag based off of income\n",
    "8. Assign a dietary flag based off of goods purchased\n",
    "9. Assign a family flag based off of number of dependants\n",
    "10. Create visualizations to show distribution of profiles\n",
    "11. Aggregate the max, mean, and min variables on a customer-profile level for usage frequency and expenditure\n",
    "12. Compare your customer profiles with regions and departments\n",
    "13. Export visualizations"
   ]
  },
  {
   "cell_type": "markdown",
   "id": "cf24a40c",
   "metadata": {},
   "source": [
    "## Import libraries"
   ]
  },
  {
   "cell_type": "code",
   "execution_count": 1,
   "id": "bdfde46e",
   "metadata": {},
   "outputs": [],
   "source": [
    "import pandas as pd\n",
    "import numpy as np\n",
    "import os\n",
    "import matplotlib.pyplot as plt\n",
    "import seaborn as sns\n",
    "import scipy"
   ]
  },
  {
   "cell_type": "markdown",
   "id": "322d817d",
   "metadata": {},
   "source": [
    "## Define path"
   ]
  },
  {
   "cell_type": "code",
   "execution_count": 2,
   "id": "2c70e513",
   "metadata": {},
   "outputs": [],
   "source": [
    "path = r'C:\\Users\\Andrew\\Desktop\\Data Immersion 1\\Instacart Basket Analysis'"
   ]
  },
  {
   "cell_type": "markdown",
   "id": "e2f304f4",
   "metadata": {},
   "source": [
    "## Import data"
   ]
  },
  {
   "cell_type": "code",
   "execution_count": 3,
   "id": "100f473d",
   "metadata": {},
   "outputs": [],
   "source": [
    "complete_data = pd.read_pickle(os.path.join(path, '02 Data', 'Prepared data', 'complete_data.pkl'))"
   ]
  },
  {
   "cell_type": "markdown",
   "id": "18b19b3c",
   "metadata": {},
   "source": [
    "## Assign regions"
   ]
  },
  {
   "cell_type": "code",
   "execution_count": 4,
   "id": "831bc15a",
   "metadata": {},
   "outputs": [],
   "source": [
    "complete_data.loc[complete_data['State'].isin(['Maine', 'New Hampsihre', 'Vermont', 'Massachusetts', 'Rhode Island'\n",
    "                                            , 'Connecticut', 'New York', 'Pennsylvania', 'New Jersey']), 'Region'] = 'Northeast'"
   ]
  },
  {
   "cell_type": "code",
   "execution_count": 5,
   "id": "994c3c64",
   "metadata": {},
   "outputs": [],
   "source": [
    "complete_data.loc[complete_data['State'].isin(['Wisconsin', 'Michigan', 'Illinois', 'Indiana', 'Ohio', 'North Dakota', \n",
    "                                             'South Dakota', 'Nebraska', 'Kansas', 'Minnesota', 'Iowa', 'Missouri']), \n",
    "                                              'Region'] = 'Midwest'"
   ]
  },
  {
   "cell_type": "code",
   "execution_count": 6,
   "id": "bb2fe675",
   "metadata": {},
   "outputs": [],
   "source": [
    "complete_data.loc[complete_data['State'].isin(['Delaware', 'Maryland', 'District of Columbia', 'Virginia', 'West Virginia',\n",
    "                                             'North Carolina', 'South Carolina', 'Georgia', 'Florida', \n",
    "                                             'Kentucky', 'Tennessee', 'Mississippi', 'Alabama', 'Oklahoma', 'Texas', \n",
    "                                             'Arkansas', 'Louisiana']), 'Region'] = 'South'"
   ]
  },
  {
   "cell_type": "code",
   "execution_count": 7,
   "id": "6075e272",
   "metadata": {},
   "outputs": [],
   "source": [
    "complete_data.loc[complete_data['State'].isin(['Idaho', 'Montana', 'Wyoming', 'Nevada', 'Utah', 'Colorado', 'Arizona',\n",
    "                                             'New Mexico', 'Alaska', 'Washington', 'Oregon', 'California', \n",
    "                                             'Hawaii']), 'Region'] = 'West'"
   ]
  },
  {
   "cell_type": "markdown",
   "id": "45d07c2a",
   "metadata": {},
   "source": [
    "## Compare spending habits by region using cross"
   ]
  },
  {
   "cell_type": "code",
   "execution_count": 8,
   "id": "bfa8f18a",
   "metadata": {},
   "outputs": [],
   "source": [
    "region_spending_cross = pd.crosstab(complete_data['Region'], complete_data['spending'], dropna = False)"
   ]
  },
  {
   "cell_type": "code",
   "execution_count": 9,
   "id": "ae0e5399",
   "metadata": {},
   "outputs": [
    {
     "data": {
      "text/html": [
       "<div>\n",
       "<style scoped>\n",
       "    .dataframe tbody tr th:only-of-type {\n",
       "        vertical-align: middle;\n",
       "    }\n",
       "\n",
       "    .dataframe tbody tr th {\n",
       "        vertical-align: top;\n",
       "    }\n",
       "\n",
       "    .dataframe thead th {\n",
       "        text-align: right;\n",
       "    }\n",
       "</style>\n",
       "<table border=\"1\" class=\"dataframe\">\n",
       "  <thead>\n",
       "    <tr style=\"text-align: right;\">\n",
       "      <th>spending</th>\n",
       "      <th>High spender</th>\n",
       "      <th>Low spender</th>\n",
       "    </tr>\n",
       "    <tr>\n",
       "      <th>Region</th>\n",
       "      <th></th>\n",
       "      <th></th>\n",
       "    </tr>\n",
       "  </thead>\n",
       "  <tbody>\n",
       "    <tr>\n",
       "      <th>Midwest</th>\n",
       "      <td>156154</td>\n",
       "      <td>7441171</td>\n",
       "    </tr>\n",
       "    <tr>\n",
       "      <th>Northeast</th>\n",
       "      <td>95664</td>\n",
       "      <td>5011694</td>\n",
       "    </tr>\n",
       "    <tr>\n",
       "      <th>South</th>\n",
       "      <td>210017</td>\n",
       "      <td>10581868</td>\n",
       "    </tr>\n",
       "    <tr>\n",
       "      <th>West</th>\n",
       "      <td>160478</td>\n",
       "      <td>8132435</td>\n",
       "    </tr>\n",
       "  </tbody>\n",
       "</table>\n",
       "</div>"
      ],
      "text/plain": [
       "spending   High spender  Low spender\n",
       "Region                              \n",
       "Midwest          156154      7441171\n",
       "Northeast         95664      5011694\n",
       "South            210017     10581868\n",
       "West             160478      8132435"
      ]
     },
     "execution_count": 9,
     "metadata": {},
     "output_type": "execute_result"
    }
   ],
   "source": [
    "region_spending_cross"
   ]
  },
  {
   "cell_type": "code",
   "execution_count": 10,
   "id": "8597e873",
   "metadata": {},
   "outputs": [],
   "source": [
    "# Copy to clipboard"
   ]
  },
  {
   "cell_type": "code",
   "execution_count": 11,
   "id": "f8e8f3a5",
   "metadata": {},
   "outputs": [],
   "source": [
    "region_spending_cross.to_clipboard()"
   ]
  },
  {
   "cell_type": "markdown",
   "id": "c3ae95c7",
   "metadata": {},
   "source": [
    "## Create low activity exclusion flag"
   ]
  },
  {
   "cell_type": "code",
   "execution_count": 12,
   "id": "95abde9a",
   "metadata": {},
   "outputs": [],
   "source": [
    "complete_data.loc[complete_data['max_order'] < 5, 'Activity'] = 'Low activity'"
   ]
  },
  {
   "cell_type": "code",
   "execution_count": 13,
   "id": "ff8cc2d2",
   "metadata": {},
   "outputs": [],
   "source": [
    "complete_data.loc[complete_data['max_order'] >= 5, 'Activity'] = 'High activity'"
   ]
  },
  {
   "cell_type": "code",
   "execution_count": 14,
   "id": "36ed3dde",
   "metadata": {},
   "outputs": [],
   "source": [
    "# Check that flag was added"
   ]
  },
  {
   "cell_type": "markdown",
   "id": "1bc106f8",
   "metadata": {},
   "source": [
    "## Creat new data frame with only high activity customers"
   ]
  },
  {
   "cell_type": "code",
   "execution_count": 15,
   "id": "745d667e",
   "metadata": {},
   "outputs": [],
   "source": [
    "Active_users = complete_data.loc[complete_data['Activity'] == 'High activity']"
   ]
  },
  {
   "cell_type": "code",
   "execution_count": 16,
   "id": "7bfafa04",
   "metadata": {},
   "outputs": [
    {
     "data": {
      "text/html": [
       "<div>\n",
       "<style scoped>\n",
       "    .dataframe tbody tr th:only-of-type {\n",
       "        vertical-align: middle;\n",
       "    }\n",
       "\n",
       "    .dataframe tbody tr th {\n",
       "        vertical-align: top;\n",
       "    }\n",
       "\n",
       "    .dataframe thead th {\n",
       "        text-align: right;\n",
       "    }\n",
       "</style>\n",
       "<table border=\"1\" class=\"dataframe\">\n",
       "  <thead>\n",
       "    <tr style=\"text-align: right;\">\n",
       "      <th></th>\n",
       "      <th>user_id</th>\n",
       "      <th>Gender</th>\n",
       "      <th>State</th>\n",
       "      <th>Age</th>\n",
       "      <th>date_joined</th>\n",
       "      <th>Dependants</th>\n",
       "      <th>Marital status</th>\n",
       "      <th>income</th>\n",
       "      <th>order_id</th>\n",
       "      <th>order_number</th>\n",
       "      <th>...</th>\n",
       "      <th>prices</th>\n",
       "      <th>price_range_loc</th>\n",
       "      <th>busiest_day</th>\n",
       "      <th>busiest_period_of_day</th>\n",
       "      <th>max_order</th>\n",
       "      <th>loyalty_flag</th>\n",
       "      <th>spending</th>\n",
       "      <th>frequency</th>\n",
       "      <th>Region</th>\n",
       "      <th>Activity</th>\n",
       "    </tr>\n",
       "  </thead>\n",
       "  <tbody>\n",
       "    <tr>\n",
       "      <th>0</th>\n",
       "      <td>26711</td>\n",
       "      <td>Female</td>\n",
       "      <td>Missouri</td>\n",
       "      <td>48</td>\n",
       "      <td>1/1/2017</td>\n",
       "      <td>3</td>\n",
       "      <td>married</td>\n",
       "      <td>165665</td>\n",
       "      <td>2543867</td>\n",
       "      <td>5</td>\n",
       "      <td>...</td>\n",
       "      <td>9.0</td>\n",
       "      <td>Mid-range product</td>\n",
       "      <td>Busiest day</td>\n",
       "      <td>Average orders</td>\n",
       "      <td>8</td>\n",
       "      <td>New customer</td>\n",
       "      <td>Low spender</td>\n",
       "      <td>regular customer</td>\n",
       "      <td>Midwest</td>\n",
       "      <td>High activity</td>\n",
       "    </tr>\n",
       "    <tr>\n",
       "      <th>1</th>\n",
       "      <td>26711</td>\n",
       "      <td>Female</td>\n",
       "      <td>Missouri</td>\n",
       "      <td>48</td>\n",
       "      <td>1/1/2017</td>\n",
       "      <td>3</td>\n",
       "      <td>married</td>\n",
       "      <td>165665</td>\n",
       "      <td>1285508</td>\n",
       "      <td>7</td>\n",
       "      <td>...</td>\n",
       "      <td>9.0</td>\n",
       "      <td>Mid-range product</td>\n",
       "      <td>Regularly busy</td>\n",
       "      <td>Average orders</td>\n",
       "      <td>8</td>\n",
       "      <td>New customer</td>\n",
       "      <td>Low spender</td>\n",
       "      <td>regular customer</td>\n",
       "      <td>Midwest</td>\n",
       "      <td>High activity</td>\n",
       "    </tr>\n",
       "    <tr>\n",
       "      <th>2</th>\n",
       "      <td>26711</td>\n",
       "      <td>Female</td>\n",
       "      <td>Missouri</td>\n",
       "      <td>48</td>\n",
       "      <td>1/1/2017</td>\n",
       "      <td>3</td>\n",
       "      <td>married</td>\n",
       "      <td>165665</td>\n",
       "      <td>2578584</td>\n",
       "      <td>8</td>\n",
       "      <td>...</td>\n",
       "      <td>9.0</td>\n",
       "      <td>Mid-range product</td>\n",
       "      <td>Busiest day</td>\n",
       "      <td>Average orders</td>\n",
       "      <td>8</td>\n",
       "      <td>New customer</td>\n",
       "      <td>Low spender</td>\n",
       "      <td>regular customer</td>\n",
       "      <td>Midwest</td>\n",
       "      <td>High activity</td>\n",
       "    </tr>\n",
       "    <tr>\n",
       "      <th>3</th>\n",
       "      <td>26711</td>\n",
       "      <td>Female</td>\n",
       "      <td>Missouri</td>\n",
       "      <td>48</td>\n",
       "      <td>1/1/2017</td>\n",
       "      <td>3</td>\n",
       "      <td>married</td>\n",
       "      <td>165665</td>\n",
       "      <td>423547</td>\n",
       "      <td>2</td>\n",
       "      <td>...</td>\n",
       "      <td>12.6</td>\n",
       "      <td>Mid-range product</td>\n",
       "      <td>Regularly busy</td>\n",
       "      <td>Average orders</td>\n",
       "      <td>8</td>\n",
       "      <td>New customer</td>\n",
       "      <td>Low spender</td>\n",
       "      <td>regular customer</td>\n",
       "      <td>Midwest</td>\n",
       "      <td>High activity</td>\n",
       "    </tr>\n",
       "    <tr>\n",
       "      <th>4</th>\n",
       "      <td>26711</td>\n",
       "      <td>Female</td>\n",
       "      <td>Missouri</td>\n",
       "      <td>48</td>\n",
       "      <td>1/1/2017</td>\n",
       "      <td>3</td>\n",
       "      <td>married</td>\n",
       "      <td>165665</td>\n",
       "      <td>2524893</td>\n",
       "      <td>3</td>\n",
       "      <td>...</td>\n",
       "      <td>12.6</td>\n",
       "      <td>Mid-range product</td>\n",
       "      <td>Least busy</td>\n",
       "      <td>Average orders</td>\n",
       "      <td>8</td>\n",
       "      <td>New customer</td>\n",
       "      <td>Low spender</td>\n",
       "      <td>regular customer</td>\n",
       "      <td>Midwest</td>\n",
       "      <td>High activity</td>\n",
       "    </tr>\n",
       "  </tbody>\n",
       "</table>\n",
       "<p>5 rows × 29 columns</p>\n",
       "</div>"
      ],
      "text/plain": [
       "   user_id  Gender     State  Age date_joined  Dependants Marital status  \\\n",
       "0    26711  Female  Missouri   48    1/1/2017           3        married   \n",
       "1    26711  Female  Missouri   48    1/1/2017           3        married   \n",
       "2    26711  Female  Missouri   48    1/1/2017           3        married   \n",
       "3    26711  Female  Missouri   48    1/1/2017           3        married   \n",
       "4    26711  Female  Missouri   48    1/1/2017           3        married   \n",
       "\n",
       "   income  order_id  order_number  ...  prices    price_range_loc  \\\n",
       "0  165665   2543867             5  ...     9.0  Mid-range product   \n",
       "1  165665   1285508             7  ...     9.0  Mid-range product   \n",
       "2  165665   2578584             8  ...     9.0  Mid-range product   \n",
       "3  165665    423547             2  ...    12.6  Mid-range product   \n",
       "4  165665   2524893             3  ...    12.6  Mid-range product   \n",
       "\n",
       "      busiest_day  busiest_period_of_day  max_order  loyalty_flag  \\\n",
       "0     Busiest day         Average orders          8  New customer   \n",
       "1  Regularly busy         Average orders          8  New customer   \n",
       "2     Busiest day         Average orders          8  New customer   \n",
       "3  Regularly busy         Average orders          8  New customer   \n",
       "4      Least busy         Average orders          8  New customer   \n",
       "\n",
       "      spending         frequency   Region       Activity  \n",
       "0  Low spender  regular customer  Midwest  High activity  \n",
       "1  Low spender  regular customer  Midwest  High activity  \n",
       "2  Low spender  regular customer  Midwest  High activity  \n",
       "3  Low spender  regular customer  Midwest  High activity  \n",
       "4  Low spender  regular customer  Midwest  High activity  \n",
       "\n",
       "[5 rows x 29 columns]"
      ]
     },
     "execution_count": 16,
     "metadata": {},
     "output_type": "execute_result"
    }
   ],
   "source": [
    "Active_users.head()"
   ]
  },
  {
   "cell_type": "code",
   "execution_count": 17,
   "id": "d28f64c7",
   "metadata": {},
   "outputs": [],
   "source": [
    "# Export active users"
   ]
  },
  {
   "cell_type": "code",
   "execution_count": 18,
   "id": "5982aa42",
   "metadata": {},
   "outputs": [],
   "source": [
    "Active_users.to_pickle(os.path.join(path, '02 Data', 'prepared data', 'active_users'))"
   ]
  },
  {
   "cell_type": "markdown",
   "id": "c4a3a6bb",
   "metadata": {},
   "source": [
    "## Create flag based on age"
   ]
  },
  {
   "cell_type": "code",
   "execution_count": 19,
   "id": "baff93b3",
   "metadata": {},
   "outputs": [
    {
     "name": "stderr",
     "output_type": "stream",
     "text": [
      "C:\\Users\\Andrew\\AppData\\Local\\Temp\\ipykernel_4184\\1971766171.py:2: SettingWithCopyWarning: \n",
      "A value is trying to be set on a copy of a slice from a DataFrame.\n",
      "Try using .loc[row_indexer,col_indexer] = value instead\n",
      "\n",
      "See the caveats in the documentation: https://pandas.pydata.org/pandas-docs/stable/user_guide/indexing.html#returning-a-view-versus-a-copy\n",
      "  Active_users.loc[(Active_users['Age'] < 30), 'Age_group'] = 'Young adult'\n"
     ]
    }
   ],
   "source": [
    "# Use loc function to asign a flag based of age and assign it to a new column 'Age_group'\n",
    "Active_users.loc[(Active_users['Age'] < 30), 'Age_group'] = 'Young adult' "
   ]
  },
  {
   "cell_type": "code",
   "execution_count": 20,
   "id": "fcc4e251",
   "metadata": {},
   "outputs": [],
   "source": [
    "Active_users.loc[(Active_users['Age'] >= 30) & (Active_users['Age'] < 65), 'Age_group'] = 'Middle aged adult' "
   ]
  },
  {
   "cell_type": "code",
   "execution_count": 21,
   "id": "ec7b7032",
   "metadata": {},
   "outputs": [],
   "source": [
    "Active_users.loc[(Active_users['Age'] >= 65), 'Age_group'] = 'Elderly' "
   ]
  },
  {
   "cell_type": "markdown",
   "id": "264d680e",
   "metadata": {},
   "source": [
    "## Create flag based on income"
   ]
  },
  {
   "cell_type": "code",
   "execution_count": 22,
   "id": "41b49faa",
   "metadata": {},
   "outputs": [
    {
     "name": "stderr",
     "output_type": "stream",
     "text": [
      "C:\\Users\\Andrew\\AppData\\Local\\Temp\\ipykernel_4184\\2599812916.py:2: SettingWithCopyWarning: \n",
      "A value is trying to be set on a copy of a slice from a DataFrame.\n",
      "Try using .loc[row_indexer,col_indexer] = value instead\n",
      "\n",
      "See the caveats in the documentation: https://pandas.pydata.org/pandas-docs/stable/user_guide/indexing.html#returning-a-view-versus-a-copy\n",
      "  Active_users.loc[(Active_users['income'] < 52000), 'Income class'] = 'Low income'\n"
     ]
    }
   ],
   "source": [
    "# Use loc function to assign a flage based on income and assign it to a new column 'Income class'\n",
    "Active_users.loc[(Active_users['income'] < 52000), 'Income class'] = 'Low income' "
   ]
  },
  {
   "cell_type": "code",
   "execution_count": 23,
   "id": "8b2c1806",
   "metadata": {},
   "outputs": [],
   "source": [
    "Active_users.loc[(Active_users['income'] >= 52000) & (Active_users['income'] < 156000), 'Income class'] = 'Middle income' "
   ]
  },
  {
   "cell_type": "code",
   "execution_count": 24,
   "id": "7d7b8f36",
   "metadata": {},
   "outputs": [],
   "source": [
    "Active_users.loc[(Active_users['income'] >= 156000), 'Income class'] = 'High income' "
   ]
  },
  {
   "cell_type": "code",
   "execution_count": 25,
   "id": "ab6cca4c",
   "metadata": {},
   "outputs": [],
   "source": [
    "# Adjust max columns to see the ones we have added\n",
    "pd.set_option('display.max_columns', None)"
   ]
  },
  {
   "cell_type": "markdown",
   "id": "4aa14912",
   "metadata": {},
   "source": [
    "## Assign dietary flag based on buying habits of users"
   ]
  },
  {
   "cell_type": "code",
   "execution_count": 26,
   "id": "4b75274b",
   "metadata": {},
   "outputs": [],
   "source": [
    "# use department_id to look at dietary habits of users by creating crosstable\n",
    "diet_crosstab = pd.crosstab(Active_users['department_id'], Active_users['user_id'], dropna = False)"
   ]
  },
  {
   "cell_type": "code",
   "execution_count": 27,
   "id": "c365f03e",
   "metadata": {},
   "outputs": [],
   "source": [
    "diet_crosstab.to_clipboard()"
   ]
  },
  {
   "cell_type": "code",
   "execution_count": 28,
   "id": "fa249dee",
   "metadata": {},
   "outputs": [],
   "source": [
    "diet_dict = dict()\n",
    "for user in diet_crosstab:\n",
    "    workinglist = diet_crosstab[user].tolist()\n",
    "    if workinglist[11] == 0 and workinglist[15] == 0:\n",
    "        diet_dict[user] = 'Vegan'\n",
    "    elif workinglist[11] == 0:\n",
    "        diet_dict[user] = 'Vegetarian'\n",
    "    else:\n",
    "        diet_dict[user] = 'No restrictions'"
   ]
  },
  {
   "cell_type": "code",
   "execution_count": 29,
   "id": "c0c8bee1",
   "metadata": {},
   "outputs": [],
   "source": [
    "diet_flag = []\n",
    "for user in Active_users['user_id']:\n",
    "    diet_flag.append(diet_dict[user])"
   ]
  },
  {
   "cell_type": "code",
   "execution_count": 30,
   "id": "dee11661",
   "metadata": {},
   "outputs": [
    {
     "name": "stderr",
     "output_type": "stream",
     "text": [
      "C:\\Users\\Andrew\\AppData\\Local\\Temp\\ipykernel_4184\\3561027605.py:1: SettingWithCopyWarning: \n",
      "A value is trying to be set on a copy of a slice from a DataFrame.\n",
      "Try using .loc[row_indexer,col_indexer] = value instead\n",
      "\n",
      "See the caveats in the documentation: https://pandas.pydata.org/pandas-docs/stable/user_guide/indexing.html#returning-a-view-versus-a-copy\n",
      "  Active_users['diet_type'] = diet_flag\n"
     ]
    }
   ],
   "source": [
    "Active_users['diet_type'] = diet_flag"
   ]
  },
  {
   "cell_type": "markdown",
   "id": "2809f9cd",
   "metadata": {},
   "source": [
    "## Assign family flag based on number of dependants"
   ]
  },
  {
   "cell_type": "code",
   "execution_count": 31,
   "id": "db446bcd",
   "metadata": {},
   "outputs": [
    {
     "name": "stderr",
     "output_type": "stream",
     "text": [
      "C:\\Users\\Andrew\\AppData\\Local\\Temp\\ipykernel_4184\\2979121673.py:1: SettingWithCopyWarning: \n",
      "A value is trying to be set on a copy of a slice from a DataFrame.\n",
      "Try using .loc[row_indexer,col_indexer] = value instead\n",
      "\n",
      "See the caveats in the documentation: https://pandas.pydata.org/pandas-docs/stable/user_guide/indexing.html#returning-a-view-versus-a-copy\n",
      "  Active_users.loc[(Active_users['Dependants'] > 0), 'Household status'] = 'Family'\n"
     ]
    }
   ],
   "source": [
    "Active_users.loc[(Active_users['Dependants'] > 0), 'Household status'] = 'Family' "
   ]
  },
  {
   "cell_type": "code",
   "execution_count": 32,
   "id": "7a005ba3",
   "metadata": {},
   "outputs": [],
   "source": [
    "Active_users.loc[(Active_users['Dependants'] == 0), 'Household status'] = 'Single' "
   ]
  },
  {
   "cell_type": "code",
   "execution_count": 33,
   "id": "1287f72f",
   "metadata": {},
   "outputs": [],
   "source": [
    "# Crosstable showing order hour of the day and based on household status\n",
    "household_order_crosstab = pd.crosstab(Active_users['order_hour_of_day'], Active_users['Household status'], dropna = False)"
   ]
  },
  {
   "cell_type": "code",
   "execution_count": 34,
   "id": "9dd9c210",
   "metadata": {},
   "outputs": [
    {
     "data": {
      "image/png": "[encoded data removed]",
      "text/plain": [
       "<Figure size 640x480 with 1 Axes>"
      ]
     },
     "metadata": {},
     "output_type": "display_data"
    }
   ],
   "source": [
    "# Create simple visualizations to show the distribution of profiles\n",
    "age_profile_bar = Active_users['Age_group'].value_counts().plot.bar(rot=0)"
   ]
  },
  {
   "cell_type": "code",
   "execution_count": 35,
   "id": "7263ddd9",
   "metadata": {},
   "outputs": [
    {
     "data": {
      "image/png": "[encoded data removed]",
      "text/plain": [
       "<Figure size 640x480 with 1 Axes>"
      ]
     },
     "metadata": {},
     "output_type": "display_data"
    }
   ],
   "source": [
    "income_profile_bar = Active_users['Income class'].value_counts().plot.bar(rot=0)"
   ]
  },
  {
   "cell_type": "code",
   "execution_count": 36,
   "id": "b252a2f1",
   "metadata": {},
   "outputs": [
    {
     "data": {
      "image/png": "[encoded data removed]",
      "text/plain": [
       "<Figure size 640x480 with 1 Axes>"
      ]
     },
     "metadata": {},
     "output_type": "display_data"
    }
   ],
   "source": [
    "diet_profile_bar = Active_users['diet_type'].value_counts().plot.bar(rot=0)"
   ]
  },
  {
   "cell_type": "code",
   "execution_count": 37,
   "id": "e7c90fe5",
   "metadata": {},
   "outputs": [
    {
     "data": {
      "image/png": "[encoded data removed]",
      "text/plain": [
       "<Figure size 640x480 with 1 Axes>"
      ]
     },
     "metadata": {},
     "output_type": "display_data"
    }
   ],
   "source": [
    "family_profile_bar = Active_users['Household status'].value_counts().plot.bar(rot=0)"
   ]
  },
  {
   "cell_type": "code",
   "execution_count": 38,
   "id": "9ca4ff91",
   "metadata": {},
   "outputs": [
    {
     "data": {
      "text/html": [
       "<div>\n",
       "<style scoped>\n",
       "    .dataframe tbody tr th:only-of-type {\n",
       "        vertical-align: middle;\n",
       "    }\n",
       "\n",
       "    .dataframe tbody tr th {\n",
       "        vertical-align: top;\n",
       "    }\n",
       "\n",
       "    .dataframe thead tr th {\n",
       "        text-align: left;\n",
       "    }\n",
       "\n",
       "    .dataframe thead tr:last-of-type th {\n",
       "        text-align: right;\n",
       "    }\n",
       "</style>\n",
       "<table border=\"1\" class=\"dataframe\">\n",
       "  <thead>\n",
       "    <tr>\n",
       "      <th></th>\n",
       "      <th colspan=\"3\" halign=\"left\">days_since_prior_order</th>\n",
       "      <th colspan=\"3\" halign=\"left\">prices</th>\n",
       "    </tr>\n",
       "    <tr>\n",
       "      <th></th>\n",
       "      <th>mean</th>\n",
       "      <th>max</th>\n",
       "      <th>min</th>\n",
       "      <th>mean</th>\n",
       "      <th>max</th>\n",
       "      <th>min</th>\n",
       "    </tr>\n",
       "    <tr>\n",
       "      <th>Age_group</th>\n",
       "      <th></th>\n",
       "      <th></th>\n",
       "      <th></th>\n",
       "      <th></th>\n",
       "      <th></th>\n",
       "      <th></th>\n",
       "    </tr>\n",
       "  </thead>\n",
       "  <tbody>\n",
       "    <tr>\n",
       "      <th>Elderly</th>\n",
       "      <td>10.587760</td>\n",
       "      <td>30.0</td>\n",
       "      <td>0.0</td>\n",
       "      <td>11.757768</td>\n",
       "      <td>99999.0</td>\n",
       "      <td>1.0</td>\n",
       "    </tr>\n",
       "    <tr>\n",
       "      <th>Middle aged adult</th>\n",
       "      <td>10.612913</td>\n",
       "      <td>30.0</td>\n",
       "      <td>0.0</td>\n",
       "      <td>11.927488</td>\n",
       "      <td>99999.0</td>\n",
       "      <td>1.0</td>\n",
       "    </tr>\n",
       "    <tr>\n",
       "      <th>Young adult</th>\n",
       "      <td>10.610878</td>\n",
       "      <td>30.0</td>\n",
       "      <td>0.0</td>\n",
       "      <td>12.198693</td>\n",
       "      <td>99999.0</td>\n",
       "      <td>1.0</td>\n",
       "    </tr>\n",
       "  </tbody>\n",
       "</table>\n",
       "</div>"
      ],
      "text/plain": [
       "                  days_since_prior_order                prices              \n",
       "                                    mean   max  min       mean      max  min\n",
       "Age_group                                                                   \n",
       "Elderly                        10.587760  30.0  0.0  11.757768  99999.0  1.0\n",
       "Middle aged adult              10.612913  30.0  0.0  11.927488  99999.0  1.0\n",
       "Young adult                    10.610878  30.0  0.0  12.198693  99999.0  1.0"
      ]
     },
     "execution_count": 38,
     "metadata": {},
     "output_type": "execute_result"
    }
   ],
   "source": [
    "# Aggregate the same variables on a customer-profile level for usage frequency and expenditure\n",
    "Active_users.groupby('Age_group').agg({'days_since_prior_order': ['mean', 'max', 'min'], 'prices': ['mean', 'max', 'min']})"
   ]
  },
  {
   "cell_type": "markdown",
   "id": "568b4fd0",
   "metadata": {},
   "source": [
    "#### We can not see much varience in order frequency, but we do se a lead in mean prices for those that fall in the \"YA\" category"
   ]
  },
  {
   "cell_type": "code",
   "execution_count": 39,
   "id": "d4a27fd1",
   "metadata": {},
   "outputs": [
    {
     "data": {
      "text/html": [
       "<div>\n",
       "<style scoped>\n",
       "    .dataframe tbody tr th:only-of-type {\n",
       "        vertical-align: middle;\n",
       "    }\n",
       "\n",
       "    .dataframe tbody tr th {\n",
       "        vertical-align: top;\n",
       "    }\n",
       "\n",
       "    .dataframe thead tr th {\n",
       "        text-align: left;\n",
       "    }\n",
       "\n",
       "    .dataframe thead tr:last-of-type th {\n",
       "        text-align: right;\n",
       "    }\n",
       "</style>\n",
       "<table border=\"1\" class=\"dataframe\">\n",
       "  <thead>\n",
       "    <tr>\n",
       "      <th></th>\n",
       "      <th colspan=\"3\" halign=\"left\">days_since_prior_order</th>\n",
       "      <th colspan=\"3\" halign=\"left\">prices</th>\n",
       "    </tr>\n",
       "    <tr>\n",
       "      <th></th>\n",
       "      <th>mean</th>\n",
       "      <th>max</th>\n",
       "      <th>min</th>\n",
       "      <th>mean</th>\n",
       "      <th>max</th>\n",
       "      <th>min</th>\n",
       "    </tr>\n",
       "    <tr>\n",
       "      <th>Income class</th>\n",
       "      <th></th>\n",
       "      <th></th>\n",
       "      <th></th>\n",
       "      <th></th>\n",
       "      <th></th>\n",
       "      <th></th>\n",
       "    </tr>\n",
       "  </thead>\n",
       "  <tbody>\n",
       "    <tr>\n",
       "      <th>High income</th>\n",
       "      <td>10.473451</td>\n",
       "      <td>30.0</td>\n",
       "      <td>0.0</td>\n",
       "      <td>38.753004</td>\n",
       "      <td>99999.0</td>\n",
       "      <td>1.0</td>\n",
       "    </tr>\n",
       "    <tr>\n",
       "      <th>Low income</th>\n",
       "      <td>10.922367</td>\n",
       "      <td>30.0</td>\n",
       "      <td>0.0</td>\n",
       "      <td>6.751992</td>\n",
       "      <td>25.0</td>\n",
       "      <td>1.0</td>\n",
       "    </tr>\n",
       "    <tr>\n",
       "      <th>Middle income</th>\n",
       "      <td>10.574291</td>\n",
       "      <td>30.0</td>\n",
       "      <td>0.0</td>\n",
       "      <td>9.590207</td>\n",
       "      <td>99999.0</td>\n",
       "      <td>1.0</td>\n",
       "    </tr>\n",
       "  </tbody>\n",
       "</table>\n",
       "</div>"
      ],
      "text/plain": [
       "              days_since_prior_order                prices              \n",
       "                                mean   max  min       mean      max  min\n",
       "Income class                                                            \n",
       "High income                10.473451  30.0  0.0  38.753004  99999.0  1.0\n",
       "Low income                 10.922367  30.0  0.0   6.751992     25.0  1.0\n",
       "Middle income              10.574291  30.0  0.0   9.590207  99999.0  1.0"
      ]
     },
     "execution_count": 39,
     "metadata": {},
     "output_type": "execute_result"
    }
   ],
   "source": [
    "Active_users.groupby('Income class').agg({'days_since_prior_order': ['mean', 'max', 'min'], 'prices': ['mean', 'max', 'min']})"
   ]
  },
  {
   "cell_type": "markdown",
   "id": "3e0d9236",
   "metadata": {},
   "source": [
    "#### The big trend of note here is the massive difference in expenditure between those in the 'High income' category and those in the others. We can see a strong correlation between the amount of money a user makes and spends on average."
   ]
  },
  {
   "cell_type": "code",
   "execution_count": 40,
   "id": "e34522a2",
   "metadata": {},
   "outputs": [
    {
     "data": {
      "text/html": [
       "<div>\n",
       "<style scoped>\n",
       "    .dataframe tbody tr th:only-of-type {\n",
       "        vertical-align: middle;\n",
       "    }\n",
       "\n",
       "    .dataframe tbody tr th {\n",
       "        vertical-align: top;\n",
       "    }\n",
       "\n",
       "    .dataframe thead tr th {\n",
       "        text-align: left;\n",
       "    }\n",
       "\n",
       "    .dataframe thead tr:last-of-type th {\n",
       "        text-align: right;\n",
       "    }\n",
       "</style>\n",
       "<table border=\"1\" class=\"dataframe\">\n",
       "  <thead>\n",
       "    <tr>\n",
       "      <th></th>\n",
       "      <th colspan=\"3\" halign=\"left\">days_since_prior_order</th>\n",
       "      <th colspan=\"3\" halign=\"left\">prices</th>\n",
       "    </tr>\n",
       "    <tr>\n",
       "      <th></th>\n",
       "      <th>mean</th>\n",
       "      <th>max</th>\n",
       "      <th>min</th>\n",
       "      <th>mean</th>\n",
       "      <th>max</th>\n",
       "      <th>min</th>\n",
       "    </tr>\n",
       "    <tr>\n",
       "      <th>diet_type</th>\n",
       "      <th></th>\n",
       "      <th></th>\n",
       "      <th></th>\n",
       "      <th></th>\n",
       "      <th></th>\n",
       "      <th></th>\n",
       "    </tr>\n",
       "  </thead>\n",
       "  <tbody>\n",
       "    <tr>\n",
       "      <th>No restrictions</th>\n",
       "      <td>10.384334</td>\n",
       "      <td>30.0</td>\n",
       "      <td>0.0</td>\n",
       "      <td>11.995948</td>\n",
       "      <td>99999.0</td>\n",
       "      <td>1.0</td>\n",
       "    </tr>\n",
       "    <tr>\n",
       "      <th>Vegan</th>\n",
       "      <td>13.221932</td>\n",
       "      <td>30.0</td>\n",
       "      <td>0.0</td>\n",
       "      <td>6.957126</td>\n",
       "      <td>20.0</td>\n",
       "      <td>1.0</td>\n",
       "    </tr>\n",
       "    <tr>\n",
       "      <th>Vegetarian</th>\n",
       "      <td>11.172321</td>\n",
       "      <td>30.0</td>\n",
       "      <td>0.0</td>\n",
       "      <td>11.947061</td>\n",
       "      <td>99999.0</td>\n",
       "      <td>1.0</td>\n",
       "    </tr>\n",
       "  </tbody>\n",
       "</table>\n",
       "</div>"
      ],
      "text/plain": [
       "                days_since_prior_order                prices              \n",
       "                                  mean   max  min       mean      max  min\n",
       "diet_type                                                                 \n",
       "No restrictions              10.384334  30.0  0.0  11.995948  99999.0  1.0\n",
       "Vegan                        13.221932  30.0  0.0   6.957126     20.0  1.0\n",
       "Vegetarian                   11.172321  30.0  0.0  11.947061  99999.0  1.0"
      ]
     },
     "execution_count": 40,
     "metadata": {},
     "output_type": "execute_result"
    }
   ],
   "source": [
    "Active_users.groupby('diet_type').agg({'days_since_prior_order': ['mean', 'max', 'min'], 'prices': ['mean', 'max', 'min']})"
   ]
  },
  {
   "cell_type": "markdown",
   "id": "a26d171c",
   "metadata": {},
   "source": [
    "#### As could be expected we see the prices of the 'No restrictions' diet have the highest average while the most strict diet 'Vegan' has the least, we do have to take into account that these prices arent adjusted for JUST food products which is something to keep  in mind. We can also see the trend stays the same for the frequency of orders. "
   ]
  },
  {
   "cell_type": "code",
   "execution_count": 41,
   "id": "aa48a87f",
   "metadata": {},
   "outputs": [
    {
     "data": {
      "text/html": [
       "<div>\n",
       "<style scoped>\n",
       "    .dataframe tbody tr th:only-of-type {\n",
       "        vertical-align: middle;\n",
       "    }\n",
       "\n",
       "    .dataframe tbody tr th {\n",
       "        vertical-align: top;\n",
       "    }\n",
       "\n",
       "    .dataframe thead tr th {\n",
       "        text-align: left;\n",
       "    }\n",
       "\n",
       "    .dataframe thead tr:last-of-type th {\n",
       "        text-align: right;\n",
       "    }\n",
       "</style>\n",
       "<table border=\"1\" class=\"dataframe\">\n",
       "  <thead>\n",
       "    <tr>\n",
       "      <th></th>\n",
       "      <th colspan=\"3\" halign=\"left\">days_since_prior_order</th>\n",
       "      <th colspan=\"3\" halign=\"left\">prices</th>\n",
       "    </tr>\n",
       "    <tr>\n",
       "      <th></th>\n",
       "      <th>mean</th>\n",
       "      <th>max</th>\n",
       "      <th>min</th>\n",
       "      <th>mean</th>\n",
       "      <th>max</th>\n",
       "      <th>min</th>\n",
       "    </tr>\n",
       "    <tr>\n",
       "      <th>Household status</th>\n",
       "      <th></th>\n",
       "      <th></th>\n",
       "      <th></th>\n",
       "      <th></th>\n",
       "      <th></th>\n",
       "      <th></th>\n",
       "    </tr>\n",
       "  </thead>\n",
       "  <tbody>\n",
       "    <tr>\n",
       "      <th>Family</th>\n",
       "      <td>10.611587</td>\n",
       "      <td>30.0</td>\n",
       "      <td>0.0</td>\n",
       "      <td>11.877157</td>\n",
       "      <td>99999.0</td>\n",
       "      <td>1.0</td>\n",
       "    </tr>\n",
       "    <tr>\n",
       "      <th>Single</th>\n",
       "      <td>10.588728</td>\n",
       "      <td>30.0</td>\n",
       "      <td>0.0</td>\n",
       "      <td>12.102657</td>\n",
       "      <td>99999.0</td>\n",
       "      <td>1.0</td>\n",
       "    </tr>\n",
       "  </tbody>\n",
       "</table>\n",
       "</div>"
      ],
      "text/plain": [
       "                 days_since_prior_order                prices              \n",
       "                                   mean   max  min       mean      max  min\n",
       "Household status                                                           \n",
       "Family                        10.611587  30.0  0.0  11.877157  99999.0  1.0\n",
       "Single                        10.588728  30.0  0.0  12.102657  99999.0  1.0"
      ]
     },
     "execution_count": 41,
     "metadata": {},
     "output_type": "execute_result"
    }
   ],
   "source": [
    "Active_users.groupby('Household status').agg({'days_since_prior_order': ['mean', 'max', 'min'], 'prices': ['mean', 'max', 'min']})"
   ]
  },
  {
   "cell_type": "markdown",
   "id": "6bd49fa5",
   "metadata": {},
   "source": [
    "#### The only variable of importance here is the mean which looks to be pretty similar between the two groups "
   ]
  },
  {
   "cell_type": "markdown",
   "id": "ef1014c7",
   "metadata": {},
   "source": [
    "## Compare your customer profiles with regions and departments"
   ]
  },
  {
   "cell_type": "code",
   "execution_count": 42,
   "id": "1bd35604",
   "metadata": {},
   "outputs": [],
   "source": [
    "loyalty_frequency_cross = pd.crosstab(complete_data['loyalty_flag'], complete_data['Activity'])"
   ]
  },
  {
   "cell_type": "code",
   "execution_count": 43,
   "id": "2c015b0c",
   "metadata": {},
   "outputs": [
    {
     "data": {
      "image/png": "[encoded data removed]",
      "text/plain": [
       "<Figure size 640x480 with 1 Axes>"
      ]
     },
     "metadata": {},
     "output_type": "display_data"
    }
   ],
   "source": [
    "loyalty_frequency_bar = loyalty_frequency_cross.plot.bar(rot = 0)"
   ]
  },
  {
   "cell_type": "code",
   "execution_count": 44,
   "id": "6b425a25",
   "metadata": {},
   "outputs": [],
   "source": [
    "loyalty_spending_cross = pd.crosstab(Active_users['spending'], Active_users['loyalty_flag'])"
   ]
  },
  {
   "cell_type": "code",
   "execution_count": 45,
   "id": "173ace83",
   "metadata": {},
   "outputs": [
    {
     "data": {
      "image/png": "[encoded data removed]",
      "text/plain": [
       "<Figure size 640x480 with 1 Axes>"
      ]
     },
     "metadata": {},
     "output_type": "display_data"
    }
   ],
   "source": [
    "loyalty_spending_bar = loyalty_spending_cross.plot.bar(rot = 0)"
   ]
  },
  {
   "cell_type": "code",
   "execution_count": 46,
   "id": "0639ab7e",
   "metadata": {},
   "outputs": [],
   "source": [
    "region_frequency_cross = pd.crosstab(Active_users['Region'], Active_users['frequency'])"
   ]
  },
  {
   "cell_type": "code",
   "execution_count": 47,
   "id": "ceb2f2f5",
   "metadata": {},
   "outputs": [
    {
     "data": {
      "image/png": "[encoded data removed]",
      "text/plain": [
       "<Figure size 640x480 with 1 Axes>"
      ]
     },
     "metadata": {},
     "output_type": "display_data"
    }
   ],
   "source": [
    "region_frequency_bar = region_frequency_cross.plot.bar(rot = 0)"
   ]
  },
  {
   "cell_type": "code",
   "execution_count": 48,
   "id": "ef48f259",
   "metadata": {},
   "outputs": [],
   "source": [
    "region_spending_cross = pd.crosstab(Active_users['Region'], Active_users['spending'])"
   ]
  },
  {
   "cell_type": "code",
   "execution_count": 49,
   "id": "f1cde289",
   "metadata": {},
   "outputs": [
    {
     "data": {
      "image/png": "[encoded data removed]",
      "text/plain": [
       "<Figure size 640x480 with 1 Axes>"
      ]
     },
     "metadata": {},
     "output_type": "display_data"
    }
   ],
   "source": [
    "region_spending_bar = region_spending_cross.plot.bar(rot = 0)"
   ]
  },
  {
   "cell_type": "code",
   "execution_count": 50,
   "id": "22407150",
   "metadata": {},
   "outputs": [],
   "source": [
    "region_activity_cross = pd.crosstab(Active_users['Region'], Active_users['Activity'])"
   ]
  },
  {
   "cell_type": "code",
   "execution_count": 51,
   "id": "cbe3e4e2",
   "metadata": {},
   "outputs": [
    {
     "data": {
      "image/png": "[encoded data removed]",
      "text/plain": [
       "<Figure size 640x480 with 1 Axes>"
      ]
     },
     "metadata": {},
     "output_type": "display_data"
    }
   ],
   "source": [
    "region_activity_bar = region_activity_cross.plot.bar(rot = 0)"
   ]
  },
  {
   "cell_type": "code",
   "execution_count": 52,
   "id": "cb3ae0e7",
   "metadata": {},
   "outputs": [
    {
     "data": {
      "image/png": "[encoded data removed]",
      "text/plain": [
       "<Figure size 640x480 with 1 Axes>"
      ]
     },
     "metadata": {},
     "output_type": "display_data"
    }
   ],
   "source": [
    "department = Active_users['department_id'].value_counts().plot.bar()"
   ]
  },
  {
   "cell_type": "code",
   "execution_count": 53,
   "id": "25d6d701",
   "metadata": {},
   "outputs": [
    {
     "ename": "KeyError",
     "evalue": "'household_status'",
     "output_type": "error",
     "traceback": [
      "\u001b[1;31m---------------------------------------------------------------------------\u001b[0m",
      "\u001b[1;31mKeyError\u001b[0m                                  Traceback (most recent call last)",
      "File \u001b[1;32m~\\anaconda3\\lib\\site-packages\\pandas\\core\\indexes\\base.py:3802\u001b[0m, in \u001b[0;36mIndex.get_loc\u001b[1;34m(self, key, method, tolerance)\u001b[0m\n\u001b[0;32m   3801\u001b[0m \u001b[38;5;28;01mtry\u001b[39;00m:\n\u001b[1;32m-> 3802\u001b[0m     \u001b[38;5;28;01mreturn\u001b[39;00m \u001b[38;5;28;43mself\u001b[39;49m\u001b[38;5;241;43m.\u001b[39;49m\u001b[43m_engine\u001b[49m\u001b[38;5;241;43m.\u001b[39;49m\u001b[43mget_loc\u001b[49m\u001b[43m(\u001b[49m\u001b[43mcasted_key\u001b[49m\u001b[43m)\u001b[49m\n\u001b[0;32m   3803\u001b[0m \u001b[38;5;28;01mexcept\u001b[39;00m \u001b[38;5;167;01mKeyError\u001b[39;00m \u001b[38;5;28;01mas\u001b[39;00m err:\n",
      "File \u001b[1;32m~\\anaconda3\\lib\\site-packages\\pandas\\_libs\\index.pyx:138\u001b[0m, in \u001b[0;36mpandas._libs.index.IndexEngine.get_loc\u001b[1;34m()\u001b[0m\n",
      "File \u001b[1;32m~\\anaconda3\\lib\\site-packages\\pandas\\_libs\\index.pyx:165\u001b[0m, in \u001b[0;36mpandas._libs.index.IndexEngine.get_loc\u001b[1;34m()\u001b[0m\n",
      "File \u001b[1;32mpandas\\_libs\\hashtable_class_helper.pxi:5745\u001b[0m, in \u001b[0;36mpandas._libs.hashtable.PyObjectHashTable.get_item\u001b[1;34m()\u001b[0m\n",
      "File \u001b[1;32mpandas\\_libs\\hashtable_class_helper.pxi:5753\u001b[0m, in \u001b[0;36mpandas._libs.hashtable.PyObjectHashTable.get_item\u001b[1;34m()\u001b[0m\n",
      "\u001b[1;31mKeyError\u001b[0m: 'household_status'",
      "\nThe above exception was the direct cause of the following exception:\n",
      "\u001b[1;31mKeyError\u001b[0m                                  Traceback (most recent call last)",
      "Cell \u001b[1;32mIn[53], line 1\u001b[0m\n\u001b[1;32m----> 1\u001b[0m family \u001b[38;5;241m=\u001b[39m \u001b[43mActive_users\u001b[49m\u001b[43m[\u001b[49m\u001b[38;5;124;43m'\u001b[39;49m\u001b[38;5;124;43mhousehold_status\u001b[39;49m\u001b[38;5;124;43m'\u001b[39;49m\u001b[43m]\u001b[49m\u001b[38;5;241m.\u001b[39mvalue_counts()\u001b[38;5;241m.\u001b[39mplot\u001b[38;5;241m.\u001b[39mbar()\n",
      "File \u001b[1;32m~\\anaconda3\\lib\\site-packages\\pandas\\core\\frame.py:3807\u001b[0m, in \u001b[0;36mDataFrame.__getitem__\u001b[1;34m(self, key)\u001b[0m\n\u001b[0;32m   3805\u001b[0m \u001b[38;5;28;01mif\u001b[39;00m \u001b[38;5;28mself\u001b[39m\u001b[38;5;241m.\u001b[39mcolumns\u001b[38;5;241m.\u001b[39mnlevels \u001b[38;5;241m>\u001b[39m \u001b[38;5;241m1\u001b[39m:\n\u001b[0;32m   3806\u001b[0m     \u001b[38;5;28;01mreturn\u001b[39;00m \u001b[38;5;28mself\u001b[39m\u001b[38;5;241m.\u001b[39m_getitem_multilevel(key)\n\u001b[1;32m-> 3807\u001b[0m indexer \u001b[38;5;241m=\u001b[39m \u001b[38;5;28;43mself\u001b[39;49m\u001b[38;5;241;43m.\u001b[39;49m\u001b[43mcolumns\u001b[49m\u001b[38;5;241;43m.\u001b[39;49m\u001b[43mget_loc\u001b[49m\u001b[43m(\u001b[49m\u001b[43mkey\u001b[49m\u001b[43m)\u001b[49m\n\u001b[0;32m   3808\u001b[0m \u001b[38;5;28;01mif\u001b[39;00m is_integer(indexer):\n\u001b[0;32m   3809\u001b[0m     indexer \u001b[38;5;241m=\u001b[39m [indexer]\n",
      "File \u001b[1;32m~\\anaconda3\\lib\\site-packages\\pandas\\core\\indexes\\base.py:3804\u001b[0m, in \u001b[0;36mIndex.get_loc\u001b[1;34m(self, key, method, tolerance)\u001b[0m\n\u001b[0;32m   3802\u001b[0m     \u001b[38;5;28;01mreturn\u001b[39;00m \u001b[38;5;28mself\u001b[39m\u001b[38;5;241m.\u001b[39m_engine\u001b[38;5;241m.\u001b[39mget_loc(casted_key)\n\u001b[0;32m   3803\u001b[0m \u001b[38;5;28;01mexcept\u001b[39;00m \u001b[38;5;167;01mKeyError\u001b[39;00m \u001b[38;5;28;01mas\u001b[39;00m err:\n\u001b[1;32m-> 3804\u001b[0m     \u001b[38;5;28;01mraise\u001b[39;00m \u001b[38;5;167;01mKeyError\u001b[39;00m(key) \u001b[38;5;28;01mfrom\u001b[39;00m \u001b[38;5;21;01merr\u001b[39;00m\n\u001b[0;32m   3805\u001b[0m \u001b[38;5;28;01mexcept\u001b[39;00m \u001b[38;5;167;01mTypeError\u001b[39;00m:\n\u001b[0;32m   3806\u001b[0m     \u001b[38;5;66;03m# If we have a listlike key, _check_indexing_error will raise\u001b[39;00m\n\u001b[0;32m   3807\u001b[0m     \u001b[38;5;66;03m#  InvalidIndexError. Otherwise we fall through and re-raise\u001b[39;00m\n\u001b[0;32m   3808\u001b[0m     \u001b[38;5;66;03m#  the TypeError.\u001b[39;00m\n\u001b[0;32m   3809\u001b[0m     \u001b[38;5;28mself\u001b[39m\u001b[38;5;241m.\u001b[39m_check_indexing_error(key)\n",
      "\u001b[1;31mKeyError\u001b[0m: 'household_status'"
     ]
    }
   ],
   "source": [
    "family = Active_users['household_status'].value_counts().plot.bar()"
   ]
  },
  {
   "cell_type": "markdown",
   "id": "3651e288",
   "metadata": {},
   "source": [
    "## Export visualizations"
   ]
  },
  {
   "cell_type": "code",
   "execution_count": 54,
   "id": "0abd345b",
   "metadata": {},
   "outputs": [],
   "source": [
    "age_profile_bar.figure.savefig(os.path.join(path, '04 Analysis', 'Visualizations', 'age_profile_bar.png'))"
   ]
  },
  {
   "cell_type": "code",
   "execution_count": 55,
   "id": "fae1cc6e",
   "metadata": {},
   "outputs": [],
   "source": [
    "income_profile_bar.figure.savefig(os.path.join(path, '04 Analysis', 'Visualizations', 'income_profile_bar.png'))"
   ]
  },
  {
   "cell_type": "code",
   "execution_count": 56,
   "id": "122a6188",
   "metadata": {},
   "outputs": [],
   "source": [
    "diet_profile_bar.figure.savefig(os.path.join(path, '04 Analysis', 'Visualizations', 'diet_profile_bar.png'))"
   ]
  },
  {
   "cell_type": "code",
   "execution_count": 57,
   "id": "8501f166",
   "metadata": {},
   "outputs": [],
   "source": [
    "family_profile_bar.figure.savefig(os.path.join(path, '04 Analysis', 'Visualizations', 'family_profile_bar.png'))"
   ]
  },
  {
   "cell_type": "code",
   "execution_count": 58,
   "id": "74cd074f",
   "metadata": {},
   "outputs": [],
   "source": [
    "loyalty_frequency_bar.figure.savefig(os.path.join(path, '04 Analysis', 'Visualizations', 'loyalty_frequency_bar.png'))"
   ]
  },
  {
   "cell_type": "code",
   "execution_count": 59,
   "id": "1b513a88",
   "metadata": {},
   "outputs": [],
   "source": [
    "loyalty_spending_bar.figure.savefig(os.path.join(path, '04 Analysis', 'Visualizations', 'loyalty_spending_bar.png'))"
   ]
  },
  {
   "cell_type": "code",
   "execution_count": 60,
   "id": "0e32deb7",
   "metadata": {},
   "outputs": [],
   "source": [
    "region_frequency_bar.figure.savefig(os.path.join(path, '04 Analysis', 'Visualizations', 'region_frequency_bar.png'))"
   ]
  },
  {
   "cell_type": "code",
   "execution_count": 61,
   "id": "d999336e",
   "metadata": {},
   "outputs": [],
   "source": [
    "region_spending_bar.figure.savefig(os.path.join(path, '04 Analysis', 'Visualizations', 'region_spending_bar.png'))"
   ]
  },
  {
   "cell_type": "code",
   "execution_count": 62,
   "id": "615ff884",
   "metadata": {},
   "outputs": [],
   "source": [
    "region_activity_bar.figure.savefig(os.path.join(path, '04 Analysis', 'Visualizations', 'region_activity_bar.png'))"
   ]
  },
  {
   "cell_type": "code",
   "execution_count": 63,
   "id": "36a5fd1e",
   "metadata": {},
   "outputs": [],
   "source": [
    "department.figure.savefig(os.path.join(path, '04 Analysis', 'Visualizations', 'department_orders_bar.png'))"
   ]
  },
  {
   "cell_type": "code",
   "execution_count": 64,
   "id": "4cc80fa9",
   "metadata": {},
   "outputs": [
    {
     "ename": "NameError",
     "evalue": "name 'family' is not defined",
     "output_type": "error",
     "traceback": [
      "\u001b[1;31m---------------------------------------------------------------------------\u001b[0m",
      "\u001b[1;31mNameError\u001b[0m                                 Traceback (most recent call last)",
      "Cell \u001b[1;32mIn[64], line 1\u001b[0m\n\u001b[1;32m----> 1\u001b[0m \u001b[43mfamily\u001b[49m\u001b[38;5;241m.\u001b[39mfigure\u001b[38;5;241m.\u001b[39msavefig(os\u001b[38;5;241m.\u001b[39mpath\u001b[38;5;241m.\u001b[39mjoin(path, \u001b[38;5;124m'\u001b[39m\u001b[38;5;124m04 Analysis\u001b[39m\u001b[38;5;124m'\u001b[39m, \u001b[38;5;124m'\u001b[39m\u001b[38;5;124mVisualizations\u001b[39m\u001b[38;5;124m'\u001b[39m, \u001b[38;5;124m'\u001b[39m\u001b[38;5;124mfamily_demo.png\u001b[39m\u001b[38;5;124m'\u001b[39m))\n",
      "\u001b[1;31mNameError\u001b[0m: name 'family' is not defined"
     ]
    }
   ],
   "source": [
    "family.figure.savefig(os.path.join(path, '04 Analysis', 'Visualizations', 'family_demo.png'))"
   ]
  },
  {
   "cell_type": "code",
   "execution_count": null,
   "id": "faf2c9e0",
   "metadata": {},
   "outputs": [],
   "source": [
    "# Crosstables made\n",
    "    \n",
    "#    region/spending\n",
    "#    diet\n",
    "#    household/orders\n",
    "#    loyalty/frequency\n",
    "#    loyalty/spending\n",
    "#    region/frequency\n",
    "#    region/activity\n",
    "    "
   ]
  },
  {
   "cell_type": "code",
   "execution_count": null,
   "id": "29f689d5",
   "metadata": {},
   "outputs": [],
   "source": []
  },
  {
   "cell_type": "code",
   "execution_count": 65,
   "id": "7c69cb75",
   "metadata": {},
   "outputs": [],
   "source": [
    "# Visualizations made\n",
    "\n",
    "#    household/orders\n",
    "#    loyalty/frequency\n",
    "#    loyalty/spending\n",
    "#    region/frequency\n",
    "#    region/activity\n",
    "#    region/spending"
   ]
  },
  {
   "cell_type": "code",
   "execution_count": 66,
   "id": "f2767c76",
   "metadata": {},
   "outputs": [],
   "source": [
    "# make column names uniform"
   ]
  },
  {
   "cell_type": "code",
   "execution_count": 67,
   "id": "600b8759",
   "metadata": {},
   "outputs": [
    {
     "data": {
      "text/html": [
       "<div>\n",
       "<style scoped>\n",
       "    .dataframe tbody tr th:only-of-type {\n",
       "        vertical-align: middle;\n",
       "    }\n",
       "\n",
       "    .dataframe tbody tr th {\n",
       "        vertical-align: top;\n",
       "    }\n",
       "\n",
       "    .dataframe thead th {\n",
       "        text-align: right;\n",
       "    }\n",
       "</style>\n",
       "<table border=\"1\" class=\"dataframe\">\n",
       "  <thead>\n",
       "    <tr style=\"text-align: right;\">\n",
       "      <th></th>\n",
       "      <th>user_id</th>\n",
       "      <th>Gender</th>\n",
       "      <th>State</th>\n",
       "      <th>Age</th>\n",
       "      <th>date_joined</th>\n",
       "      <th>Dependants</th>\n",
       "      <th>Marital status</th>\n",
       "      <th>income</th>\n",
       "      <th>order_id</th>\n",
       "      <th>order_number</th>\n",
       "      <th>order_day_of_the_week</th>\n",
       "      <th>order_hour_of_day</th>\n",
       "      <th>days_since_prior_order</th>\n",
       "      <th>product_id</th>\n",
       "      <th>add_to_cart_order</th>\n",
       "      <th>reordered</th>\n",
       "      <th>product_name</th>\n",
       "      <th>aisle_id</th>\n",
       "      <th>department_id</th>\n",
       "      <th>prices</th>\n",
       "      <th>price_range_loc</th>\n",
       "      <th>busiest_day</th>\n",
       "      <th>busiest_period_of_day</th>\n",
       "      <th>max_order</th>\n",
       "      <th>loyalty_flag</th>\n",
       "      <th>spending</th>\n",
       "      <th>frequency</th>\n",
       "      <th>Region</th>\n",
       "      <th>Activity</th>\n",
       "      <th>Age_group</th>\n",
       "      <th>Income class</th>\n",
       "      <th>diet_type</th>\n",
       "      <th>Household status</th>\n",
       "    </tr>\n",
       "  </thead>\n",
       "  <tbody>\n",
       "    <tr>\n",
       "      <th>0</th>\n",
       "      <td>26711</td>\n",
       "      <td>Female</td>\n",
       "      <td>Missouri</td>\n",
       "      <td>48</td>\n",
       "      <td>1/1/2017</td>\n",
       "      <td>3</td>\n",
       "      <td>married</td>\n",
       "      <td>165665</td>\n",
       "      <td>2543867</td>\n",
       "      <td>5</td>\n",
       "      <td>1</td>\n",
       "      <td>9</td>\n",
       "      <td>30.0</td>\n",
       "      <td>196</td>\n",
       "      <td>2</td>\n",
       "      <td>0</td>\n",
       "      <td>Soda</td>\n",
       "      <td>77</td>\n",
       "      <td>7</td>\n",
       "      <td>9.0</td>\n",
       "      <td>Mid-range product</td>\n",
       "      <td>Busiest day</td>\n",
       "      <td>Average orders</td>\n",
       "      <td>8</td>\n",
       "      <td>New customer</td>\n",
       "      <td>Low spender</td>\n",
       "      <td>regular customer</td>\n",
       "      <td>Midwest</td>\n",
       "      <td>High activity</td>\n",
       "      <td>Middle aged adult</td>\n",
       "      <td>High income</td>\n",
       "      <td>Vegetarian</td>\n",
       "      <td>Family</td>\n",
       "    </tr>\n",
       "    <tr>\n",
       "      <th>1</th>\n",
       "      <td>26711</td>\n",
       "      <td>Female</td>\n",
       "      <td>Missouri</td>\n",
       "      <td>48</td>\n",
       "      <td>1/1/2017</td>\n",
       "      <td>3</td>\n",
       "      <td>married</td>\n",
       "      <td>165665</td>\n",
       "      <td>1285508</td>\n",
       "      <td>7</td>\n",
       "      <td>5</td>\n",
       "      <td>15</td>\n",
       "      <td>11.0</td>\n",
       "      <td>196</td>\n",
       "      <td>1</td>\n",
       "      <td>1</td>\n",
       "      <td>Soda</td>\n",
       "      <td>77</td>\n",
       "      <td>7</td>\n",
       "      <td>9.0</td>\n",
       "      <td>Mid-range product</td>\n",
       "      <td>Regularly busy</td>\n",
       "      <td>Average orders</td>\n",
       "      <td>8</td>\n",
       "      <td>New customer</td>\n",
       "      <td>Low spender</td>\n",
       "      <td>regular customer</td>\n",
       "      <td>Midwest</td>\n",
       "      <td>High activity</td>\n",
       "      <td>Middle aged adult</td>\n",
       "      <td>High income</td>\n",
       "      <td>Vegetarian</td>\n",
       "      <td>Family</td>\n",
       "    </tr>\n",
       "    <tr>\n",
       "      <th>2</th>\n",
       "      <td>26711</td>\n",
       "      <td>Female</td>\n",
       "      <td>Missouri</td>\n",
       "      <td>48</td>\n",
       "      <td>1/1/2017</td>\n",
       "      <td>3</td>\n",
       "      <td>married</td>\n",
       "      <td>165665</td>\n",
       "      <td>2578584</td>\n",
       "      <td>8</td>\n",
       "      <td>1</td>\n",
       "      <td>15</td>\n",
       "      <td>10.0</td>\n",
       "      <td>196</td>\n",
       "      <td>2</td>\n",
       "      <td>1</td>\n",
       "      <td>Soda</td>\n",
       "      <td>77</td>\n",
       "      <td>7</td>\n",
       "      <td>9.0</td>\n",
       "      <td>Mid-range product</td>\n",
       "      <td>Busiest day</td>\n",
       "      <td>Average orders</td>\n",
       "      <td>8</td>\n",
       "      <td>New customer</td>\n",
       "      <td>Low spender</td>\n",
       "      <td>regular customer</td>\n",
       "      <td>Midwest</td>\n",
       "      <td>High activity</td>\n",
       "      <td>Middle aged adult</td>\n",
       "      <td>High income</td>\n",
       "      <td>Vegetarian</td>\n",
       "      <td>Family</td>\n",
       "    </tr>\n",
       "    <tr>\n",
       "      <th>3</th>\n",
       "      <td>26711</td>\n",
       "      <td>Female</td>\n",
       "      <td>Missouri</td>\n",
       "      <td>48</td>\n",
       "      <td>1/1/2017</td>\n",
       "      <td>3</td>\n",
       "      <td>married</td>\n",
       "      <td>165665</td>\n",
       "      <td>423547</td>\n",
       "      <td>2</td>\n",
       "      <td>2</td>\n",
       "      <td>9</td>\n",
       "      <td>14.0</td>\n",
       "      <td>38928</td>\n",
       "      <td>1</td>\n",
       "      <td>0</td>\n",
       "      <td>0% Greek Strained Yogurt</td>\n",
       "      <td>120</td>\n",
       "      <td>16</td>\n",
       "      <td>12.6</td>\n",
       "      <td>Mid-range product</td>\n",
       "      <td>Regularly busy</td>\n",
       "      <td>Average orders</td>\n",
       "      <td>8</td>\n",
       "      <td>New customer</td>\n",
       "      <td>Low spender</td>\n",
       "      <td>regular customer</td>\n",
       "      <td>Midwest</td>\n",
       "      <td>High activity</td>\n",
       "      <td>Middle aged adult</td>\n",
       "      <td>High income</td>\n",
       "      <td>Vegetarian</td>\n",
       "      <td>Family</td>\n",
       "    </tr>\n",
       "    <tr>\n",
       "      <th>4</th>\n",
       "      <td>26711</td>\n",
       "      <td>Female</td>\n",
       "      <td>Missouri</td>\n",
       "      <td>48</td>\n",
       "      <td>1/1/2017</td>\n",
       "      <td>3</td>\n",
       "      <td>married</td>\n",
       "      <td>165665</td>\n",
       "      <td>2524893</td>\n",
       "      <td>3</td>\n",
       "      <td>3</td>\n",
       "      <td>11</td>\n",
       "      <td>30.0</td>\n",
       "      <td>38928</td>\n",
       "      <td>1</td>\n",
       "      <td>1</td>\n",
       "      <td>0% Greek Strained Yogurt</td>\n",
       "      <td>120</td>\n",
       "      <td>16</td>\n",
       "      <td>12.6</td>\n",
       "      <td>Mid-range product</td>\n",
       "      <td>Least busy</td>\n",
       "      <td>Average orders</td>\n",
       "      <td>8</td>\n",
       "      <td>New customer</td>\n",
       "      <td>Low spender</td>\n",
       "      <td>regular customer</td>\n",
       "      <td>Midwest</td>\n",
       "      <td>High activity</td>\n",
       "      <td>Middle aged adult</td>\n",
       "      <td>High income</td>\n",
       "      <td>Vegetarian</td>\n",
       "      <td>Family</td>\n",
       "    </tr>\n",
       "  </tbody>\n",
       "</table>\n",
       "</div>"
      ],
      "text/plain": [
       "   user_id  Gender     State  Age date_joined  Dependants Marital status  \\\n",
       "0    26711  Female  Missouri   48    1/1/2017           3        married   \n",
       "1    26711  Female  Missouri   48    1/1/2017           3        married   \n",
       "2    26711  Female  Missouri   48    1/1/2017           3        married   \n",
       "3    26711  Female  Missouri   48    1/1/2017           3        married   \n",
       "4    26711  Female  Missouri   48    1/1/2017           3        married   \n",
       "\n",
       "   income  order_id  order_number  order_day_of_the_week  order_hour_of_day  \\\n",
       "0  165665   2543867             5                      1                  9   \n",
       "1  165665   1285508             7                      5                 15   \n",
       "2  165665   2578584             8                      1                 15   \n",
       "3  165665    423547             2                      2                  9   \n",
       "4  165665   2524893             3                      3                 11   \n",
       "\n",
       "   days_since_prior_order  product_id  add_to_cart_order  reordered  \\\n",
       "0                    30.0         196                  2          0   \n",
       "1                    11.0         196                  1          1   \n",
       "2                    10.0         196                  2          1   \n",
       "3                    14.0       38928                  1          0   \n",
       "4                    30.0       38928                  1          1   \n",
       "\n",
       "               product_name  aisle_id  department_id  prices  \\\n",
       "0                      Soda        77              7     9.0   \n",
       "1                      Soda        77              7     9.0   \n",
       "2                      Soda        77              7     9.0   \n",
       "3  0% Greek Strained Yogurt       120             16    12.6   \n",
       "4  0% Greek Strained Yogurt       120             16    12.6   \n",
       "\n",
       "     price_range_loc     busiest_day busiest_period_of_day  max_order  \\\n",
       "0  Mid-range product     Busiest day        Average orders          8   \n",
       "1  Mid-range product  Regularly busy        Average orders          8   \n",
       "2  Mid-range product     Busiest day        Average orders          8   \n",
       "3  Mid-range product  Regularly busy        Average orders          8   \n",
       "4  Mid-range product      Least busy        Average orders          8   \n",
       "\n",
       "   loyalty_flag     spending         frequency   Region       Activity  \\\n",
       "0  New customer  Low spender  regular customer  Midwest  High activity   \n",
       "1  New customer  Low spender  regular customer  Midwest  High activity   \n",
       "2  New customer  Low spender  regular customer  Midwest  High activity   \n",
       "3  New customer  Low spender  regular customer  Midwest  High activity   \n",
       "4  New customer  Low spender  regular customer  Midwest  High activity   \n",
       "\n",
       "           Age_group Income class   diet_type Household status  \n",
       "0  Middle aged adult  High income  Vegetarian           Family  \n",
       "1  Middle aged adult  High income  Vegetarian           Family  \n",
       "2  Middle aged adult  High income  Vegetarian           Family  \n",
       "3  Middle aged adult  High income  Vegetarian           Family  \n",
       "4  Middle aged adult  High income  Vegetarian           Family  "
      ]
     },
     "execution_count": 67,
     "metadata": {},
     "output_type": "execute_result"
    }
   ],
   "source": [
    "Active_users.head()"
   ]
  },
  {
   "cell_type": "code",
   "execution_count": null,
   "id": "8c39c123",
   "metadata": {},
   "outputs": [],
   "source": []
  },
  {
   "cell_type": "code",
   "execution_count": null,
   "id": "c3925412",
   "metadata": {},
   "outputs": [],
   "source": []
  },
  {
   "cell_type": "code",
   "execution_count": null,
   "id": "b767695d",
   "metadata": {},
   "outputs": [],
   "source": []
  },
  {
   "cell_type": "code",
   "execution_count": null,
   "id": "fb647c06",
   "metadata": {},
   "outputs": [],
   "source": []
  }
 ],
 "metadata": {
  "kernelspec": {
   "display_name": "Python 3 (ipykernel)",
   "language": "python",
   "name": "python3"
  },
  "language_info": {
   "codemirror_mode": {
    "name": "ipython",
    "version": 3
   },
   "file_extension": ".py",
   "mimetype": "text/x-python",
   "name": "python",
   "nbconvert_exporter": "python",
   "pygments_lexer": "ipython3",
   "version": "3.10.9"
  }
 },
 "nbformat": 4,
 "nbformat_minor": 5
}
